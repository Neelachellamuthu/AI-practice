{
 "cells": [
  {
   "cell_type": "code",
   "execution_count": null,
   "id": "ba6a3789",
   "metadata": {},
   "outputs": [],
   "source": [
    "#Float"
   ]
  },
  {
   "cell_type": "markdown",
   "id": "1c76a439",
   "metadata": {},
   "source": [
    "# BMI          Weight Status\n",
    "Below18.5            Underweight\n",
    "18.5-24.5            Normal Weight\n",
    "25.0-29.9            Over Weight\n",
    "30.0-34.9            Obesity Class I\n",
    "35.0-39.9            Obesity Class II\n",
    "Above 40             Obesity Class III"
   ]
  },
  {
   "cell_type": "code",
   "execution_count": 1,
   "id": "f367ae12",
   "metadata": {},
   "outputs": [
    {
     "name": "stdout",
     "output_type": "stream",
     "text": [
      "Enter the BMI index:45\n",
      "Obesity Class III\n"
     ]
    }
   ],
   "source": [
    "Bmi_value=float(input(\"Enter the BMI index:\"))\n",
    "if(18.5>Bmi_value):\n",
    "    print(\"Underweight\")\n",
    "elif(18.5<=Bmi_value<=24.9):\n",
    "    print(\"Normal\")\n",
    "elif(25<=Bmi_value<=29.9):\n",
    "    print(\"Overweight\")\n",
    "elif(30<=Bmi_value<=34.9):\n",
    "    print(\"Obesity Class I\")\n",
    "elif(35.0<=Bmi_value<=39.9):\n",
    "    print(\"Obesity Class II\")\n",
    "else:\n",
    "    print(\"Obesity Class III\")"
   ]
  },
  {
   "cell_type": "code",
   "execution_count": 2,
   "id": "d38b03e6",
   "metadata": {},
   "outputs": [
    {
     "name": "stdout",
     "output_type": "stream",
     "text": [
      "0\n",
      "1\n",
      "2\n",
      "3\n",
      "4\n",
      "5\n",
      "6\n",
      "7\n",
      "8\n",
      "9\n",
      "10\n",
      "11\n",
      "12\n",
      "13\n",
      "14\n",
      "15\n",
      "16\n",
      "17\n",
      "18\n",
      "19\n"
     ]
    }
   ],
   "source": [
    "for i in range(0,20):\n",
    "    print(i)"
   ]
  },
  {
   "cell_type": "code",
   "execution_count": 3,
   "id": "c460ad5f",
   "metadata": {},
   "outputs": [
    {
     "name": "stdout",
     "output_type": "stream",
     "text": [
      "[10, 11, 12, 13, 14, 15, 16, 17, 18, 19]\n"
     ]
    }
   ],
   "source": [
    "print(list(range(10,20)))"
   ]
  },
  {
   "cell_type": "code",
   "execution_count": 4,
   "id": "e95f6666",
   "metadata": {},
   "outputs": [
    {
     "name": "stdout",
     "output_type": "stream",
     "text": [
      "10 11 12 13 14 15 16 17 18 19\n"
     ]
    }
   ],
   "source": [
    "print(*range(10,20))"
   ]
  },
  {
   "cell_type": "code",
   "execution_count": 5,
   "id": "d482bf00",
   "metadata": {},
   "outputs": [
    {
     "name": "stdout",
     "output_type": "stream",
     "text": [
      "[10, 20, 14, 55, 43, 87, 76]\n",
      "Number of item in the list: 7\n"
     ]
    }
   ],
   "source": [
    "list=[10,20,14,55,43,87,76]\n",
    "print(list)\n",
    "print(\"Number of item in the list:\",len(list))"
   ]
  },
  {
   "cell_type": "code",
   "execution_count": 6,
   "id": "4c5e48c0",
   "metadata": {},
   "outputs": [
    {
     "name": "stdout",
     "output_type": "stream",
     "text": [
      "incorrect\n",
      "incorrect\n",
      "incorrect\n"
     ]
    }
   ],
   "source": [
    "list=[\"apple\",\"orange\",\"banana\"]\n",
    "for i in list:\n",
    "    if i ==\"grapes\":\n",
    "        print(\"correct\")\n",
    "    else:\n",
    "        print(\"incorrect\")"
   ]
  },
  {
   "cell_type": "code",
   "execution_count": 7,
   "id": "4ce5d93a",
   "metadata": {},
   "outputs": [
    {
     "name": "stdout",
     "output_type": "stream",
     "text": [
      "apple\n",
      "orange\n",
      "banana\n"
     ]
    }
   ],
   "source": [
    "list=[\"apple\",\"orange\",\"banana\"]\n",
    "for i in list:\n",
    "    print(i)"
   ]
  },
  {
   "cell_type": "code",
   "execution_count": 8,
   "id": "722bb84e",
   "metadata": {},
   "outputs": [
    {
     "name": "stdout",
     "output_type": "stream",
     "text": [
      "incorrect\n",
      "incorrect\n",
      "correct\n"
     ]
    }
   ],
   "source": [
    "list=[\"apple\",\"orange\",\"banana\"]\n",
    "for i in list:\n",
    "    if i ==\"banana\":\n",
    "        print(\"correct\")\n",
    "    else:\n",
    "        print(\"incorrect\")"
   ]
  },
  {
   "cell_type": "code",
   "execution_count": null,
   "id": "f40dc453",
   "metadata": {},
   "outputs": [],
   "source": []
  }
 ],
 "metadata": {
  "kernelspec": {
   "display_name": "Python 3 (ipykernel)",
   "language": "python",
   "name": "python3"
  },
  "language_info": {
   "codemirror_mode": {
    "name": "ipython",
    "version": 3
   },
   "file_extension": ".py",
   "mimetype": "text/x-python",
   "name": "python",
   "nbconvert_exporter": "python",
   "pygments_lexer": "ipython3",
   "version": "3.11.5"
  }
 },
 "nbformat": 4,
 "nbformat_minor": 5
}
