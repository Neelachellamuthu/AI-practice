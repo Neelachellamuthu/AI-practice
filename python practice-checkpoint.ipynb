{
 "cells": [
  {
   "cell_type": "code",
   "execution_count": null,
   "id": "85b95fb4",
   "metadata": {},
   "outputs": [],
   "source": [
    "#print statement"
   ]
  },
  {
   "cell_type": "code",
   "execution_count": 1,
   "id": "a3a45e46",
   "metadata": {},
   "outputs": [
    {
     "name": "stdout",
     "output_type": "stream",
     "text": [
      "Hi\n"
     ]
    }
   ],
   "source": [
    "print(\"Hi\")"
   ]
  },
  {
   "cell_type": "code",
   "execution_count": 2,
   "id": "d8e8ee13",
   "metadata": {},
   "outputs": [
    {
     "name": "stdout",
     "output_type": "stream",
     "text": [
      "Good Morning\n"
     ]
    }
   ],
   "source": [
    "print(\"Good Morning\")"
   ]
  },
  {
   "cell_type": "code",
   "execution_count": 3,
   "id": "ca22b9cf",
   "metadata": {},
   "outputs": [
    {
     "name": "stdout",
     "output_type": "stream",
     "text": [
      "32\n"
     ]
    }
   ],
   "source": [
    "print(20+12)"
   ]
  },
  {
   "cell_type": "code",
   "execution_count": 4,
   "id": "1e2d8f96",
   "metadata": {},
   "outputs": [
    {
     "name": "stdout",
     "output_type": "stream",
     "text": [
      "69\n"
     ]
    }
   ],
   "source": [
    "print(23*3)"
   ]
  },
  {
   "cell_type": "code",
   "execution_count": 5,
   "id": "f6f392ee",
   "metadata": {},
   "outputs": [
    {
     "name": "stdout",
     "output_type": "stream",
     "text": [
      "-22\n"
     ]
    }
   ],
   "source": [
    "print(45-67)"
   ]
  },
  {
   "cell_type": "code",
   "execution_count": 6,
   "id": "2b1f2076",
   "metadata": {},
   "outputs": [
    {
     "name": "stdout",
     "output_type": "stream",
     "text": [
      "13.0\n"
     ]
    }
   ],
   "source": [
    "print(65/5)"
   ]
  },
  {
   "cell_type": "code",
   "execution_count": 1,
   "id": "a462def7",
   "metadata": {},
   "outputs": [
    {
     "name": "stdout",
     "output_type": "stream",
     "text": [
      "Hi Kamala,How are you?\n"
     ]
    }
   ],
   "source": [
    "print(\"Hi Kamala,How are you?\")"
   ]
  },
  {
   "cell_type": "code",
   "execution_count": 2,
   "id": "1f6caff7",
   "metadata": {},
   "outputs": [
    {
     "name": "stdout",
     "output_type": "stream",
     "text": [
      "Name: Kamala Age: 33\n"
     ]
    }
   ],
   "source": [
    "name=\"Kamala\"\n",
    "age=\"33\"\n",
    "print(\"Name:\",name,\"Age:\",age)"
   ]
  },
  {
   "cell_type": "code",
   "execution_count": 3,
   "id": "858ad03d",
   "metadata": {},
   "outputs": [
    {
     "name": "stdout",
     "output_type": "stream",
     "text": [
      "Enter your Name:Kamala\n",
      "Enter your Age:33\n"
     ]
    }
   ],
   "source": [
    "name=input(\"Enter your Name:\")\n",
    "age=int(input(\"Enter your Age:\"))"
   ]
  },
  {
   "cell_type": "code",
   "execution_count": 4,
   "id": "613fdfd2",
   "metadata": {},
   "outputs": [
    {
     "name": "stdout",
     "output_type": "stream",
     "text": [
      "Kamala\n",
      "33\n"
     ]
    }
   ],
   "source": [
    "print(name)\n",
    "print(age)"
   ]
  },
  {
   "cell_type": "code",
   "execution_count": 6,
   "id": "14b10a0a",
   "metadata": {},
   "outputs": [
    {
     "name": "stdout",
     "output_type": "stream",
     "text": [
      "Enter a value:33\n"
     ]
    }
   ],
   "source": [
    "a=input(\"Enter a value:\")"
   ]
  },
  {
   "cell_type": "code",
   "execution_count": 7,
   "id": "d6d3dd45",
   "metadata": {},
   "outputs": [
    {
     "name": "stdout",
     "output_type": "stream",
     "text": [
      "33\n"
     ]
    }
   ],
   "source": [
    "print(a)"
   ]
  },
  {
   "cell_type": "code",
   "execution_count": null,
   "id": "a43983fc",
   "metadata": {},
   "outputs": [],
   "source": [
    "#Control structure"
   ]
  },
  {
   "cell_type": "code",
   "execution_count": null,
   "id": "cf437c2a",
   "metadata": {},
   "outputs": [],
   "source": [
    "#If condition"
   ]
  },
  {
   "cell_type": "code",
   "execution_count": 8,
   "id": "0309db5d",
   "metadata": {},
   "outputs": [
    {
     "name": "stdout",
     "output_type": "stream",
     "text": [
      "Enter number1:22\n",
      "The number is smaller than 30\n"
     ]
    }
   ],
   "source": [
    "number1=int(input(\"Enter number1:\"))\n",
    "if(number1>30):\n",
    "    print(\"The number is bigger than 30\")\n",
    "else:\n",
    "    print(\"The number is smaller than 30\")"
   ]
  },
  {
   "cell_type": "code",
   "execution_count": 12,
   "id": "c7a5760a",
   "metadata": {},
   "outputs": [
    {
     "name": "stdout",
     "output_type": "stream",
     "text": [
      "Enter number1:11\n",
      "Enter number2:56\n",
      "The number is smaller than number 2\n"
     ]
    }
   ],
   "source": [
    "number1=int(input(\"Enter number1:\"))\n",
    "number2=int(input(\"Enter number2:\"))\n",
    "if(number1>number2):\n",
    "    print(\"The number is bigger than number 2\")\n",
    "else:\n",
    "    print(\"The number is smaller than number 2\")"
   ]
  },
  {
   "cell_type": "code",
   "execution_count": 13,
   "id": "7131de40",
   "metadata": {},
   "outputs": [
    {
     "name": "stdout",
     "output_type": "stream",
     "text": [
      "Enter number1:5\n",
      "Enter number2:6\n",
      "The number is bigger than number 1\n"
     ]
    }
   ],
   "source": [
    "number1=int(input(\"Enter number1:\"))\n",
    "number2=int(input(\"Enter number2:\"))\n",
    "if(number1<number2):\n",
    "    print(\"The number is bigger than number 1\")\n",
    "else:\n",
    "    print(\"The number is smaller than number 1\")"
   ]
  },
  {
   "cell_type": "code",
   "execution_count": null,
   "id": "c10e0afe",
   "metadata": {},
   "outputs": [],
   "source": [
    "#if-elif"
   ]
  },
  {
   "cell_type": "code",
   "execution_count": 14,
   "id": "b951a273",
   "metadata": {},
   "outputs": [
    {
     "name": "stdout",
     "output_type": "stream",
     "text": [
      "Enter number1:66\n",
      "Enter number2:66\n",
      "Number1 amnd Number2 are equal\n"
     ]
    }
   ],
   "source": [
    "number1=int(input(\"Enter number1:\"))\n",
    "number2=int(input(\"Enter number2:\"))\n",
    "if(number1>number2):\n",
    "    print(\"The number is bigger than number 2\")\n",
    "elif(number1==number2):\n",
    "    print(\"Number1 amnd Number2 are equal\")\n",
    "else:\n",
    "    print(\"The number is smaller than number 2 \")\n",
    "    "
   ]
  },
  {
   "cell_type": "code",
   "execution_count": null,
   "id": "e1b274bf",
   "metadata": {},
   "outputs": [],
   "source": [
    "#Home work"
   ]
  },
  {
   "cell_type": "code",
   "execution_count": 15,
   "id": "8a0723d0",
   "metadata": {},
   "outputs": [
    {
     "name": "stdout",
     "output_type": "stream",
     "text": [
      "Enter the age:54\n",
      "The person is Senior Citizen\n"
     ]
    }
   ],
   "source": [
    "age=int(input(\"Enter the age:\"))\n",
    "if(0<age<12):\n",
    "    print(\"The person is Child\")\n",
    "elif(13<age<18):\n",
    "    print(\"The person is Adult\")\n",
    "elif(19<age<25):\n",
    "    print(\"The person is man or women\")\n",
    "elif(26<age<50):\n",
    "    print(\"The person is Citizen\")\n",
    "else:\n",
    "    print(\"The person is Senior Citizen\")"
   ]
  },
  {
   "cell_type": "code",
   "execution_count": null,
   "id": "ada0c378",
   "metadata": {},
   "outputs": [],
   "source": []
  }
 ],
 "metadata": {
  "kernelspec": {
   "display_name": "Python 3 (ipykernel)",
   "language": "python",
   "name": "python3"
  },
  "language_info": {
   "codemirror_mode": {
    "name": "ipython",
    "version": 3
   },
   "file_extension": ".py",
   "mimetype": "text/x-python",
   "name": "python",
   "nbconvert_exporter": "python",
   "pygments_lexer": "ipython3",
   "version": "3.11.5"
  }
 },
 "nbformat": 4,
 "nbformat_minor": 5
}
